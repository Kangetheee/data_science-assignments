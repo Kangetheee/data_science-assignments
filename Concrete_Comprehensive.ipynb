{
 "cells": [
  {
   "cell_type": "markdown",
   "id": "02c791c5-ff04-47e2-bb63-a05d09bf7550",
   "metadata": {},
   "source": [
    "# Load Data and import Dependencies"
   ]
  },
  {
   "cell_type": "code",
   "execution_count": null,
   "id": "3bee647e-f4f1-49b4-983b-88832185a72c",
   "metadata": {
    "scrolled": true
   },
   "outputs": [],
   "source": [
    "!pip install ucimlrepo\n",
    "!pip install xlrd"
   ]
  },
  {
   "cell_type": "code",
   "execution_count": null,
   "id": "e1cbbbae-e585-4ef1-8de5-36d09261c219",
   "metadata": {},
   "outputs": [],
   "source": [
    "from ucimlrepo import fetch_ucirepo \n",
    "import pandas as pd\n",
    "import numpy as np\n",
    "import matplotlib.pyplot as plt\n",
    "import seaborn as sns\n",
    "\n",
    "from sklearn.model_selection import train_test_split\n",
    "from sklearn.linear_model import Ridge, Lasso, LinearRegression"
   ]
  },
  {
   "cell_type": "code",
   "execution_count": null,
   "id": "6168e64d-8460-410e-9ac5-7058bbdeb759",
   "metadata": {},
   "outputs": [],
   "source": [
    "# fetch dataset from uci\n",
    "concrete_compressive_strength = fetch_ucirepo(id=165) \n",
    "\n",
    "# data (as pandas dataframes) \n",
    "X = concrete_compressive_strength.data.features \n",
    "y = concrete_compressive_strength.data.targets \n",
    "  \n",
    "# metadata \n",
    "print(concrete_compressive_strength.metadata) \n",
    "  \n",
    "# variable information \n",
    "print(concrete_compressive_strength.variables) "
   ]
  },
  {
   "cell_type": "code",
   "execution_count": null,
   "id": "d74eef47-f373-4cd8-9e90-598e4300a7a3",
   "metadata": {},
   "outputs": [],
   "source": [
    "X"
   ]
  },
  {
   "cell_type": "code",
   "execution_count": null,
   "id": "9d74e4e1-32b5-49f8-82d7-1cda76c41d5f",
   "metadata": {},
   "outputs": [],
   "source": [
    "y"
   ]
  },
  {
   "cell_type": "code",
   "execution_count": null,
   "id": "a11f05e7-0e1b-4a53-bb49-a0767e815bfe",
   "metadata": {},
   "outputs": [],
   "source": [
    "# Import data from local source\n",
    "# file = r'data/Concrete_Data.xls'\n",
    "df = pd.read_excel('data/Concrete_Data.xls')\n",
    "df"
   ]
  },
  {
   "cell_type": "code",
   "execution_count": null,
   "id": "afdcef64-3e53-4c48-bd52-ce65eaeef1e3",
   "metadata": {},
   "outputs": [],
   "source": [
    "df.columns = df.columns.str.strip()"
   ]
  },
  {
   "cell_type": "code",
   "execution_count": null,
   "id": "cf7359d4-47ea-4b11-8404-17c70442053a",
   "metadata": {},
   "outputs": [],
   "source": [
    "# Renaming columns with direct mapping\n",
    "df.rename(columns={\n",
    "    'Cement (component 1)(kg in a m^3 mixture)': 'Cement',\n",
    "    'Blast Furnace Slag (component 2)(kg in a m^3 mixture)': 'Blast Furnace Slag', \n",
    "    'Fly Ash (component 3)(kg in a m^3 mixture)': 'Fly Ash',\n",
    "    'Water (component 4)(kg in a m^3 mixture)': 'Water',\n",
    "    'Superplasticizer (component 5)(kg in a m^3 mixture)': 'Superplasticizer',\n",
    "    'Coarse Aggregate (component 6)(kg in a m^3 mixture)': 'Coarse Aggregate',\n",
    "    'Fine Aggregate (component 7)(kg in a m^3 mixture)': 'Fine Aggregate',\n",
    "    'Age(day)': 'Age',\n",
    "    'Concrete compressive strength(MPa, megapascals)': 'Concrete compressive strength'\n",
    "}, inplace=True)"
   ]
  },
  {
   "cell_type": "code",
   "execution_count": null,
   "id": "0448245e-04a9-4b7e-8b0d-dad58ffa6ee5",
   "metadata": {},
   "outputs": [],
   "source": [
    "# Renaming columns with regex\n",
    "import re\n",
    "\n",
    "rename_dict = {\n",
    "    r'.*Cement.*': 'Cement',\n",
    "    r'.*Blast Furnace Slag.*': 'Blast Furnace Slag',\n",
    "    r'.*Fly Ash.*': 'Fly Ash',\n",
    "    r'.*Water.*': 'Water',\n",
    "    r'.*Superplasticizer.*': 'Superplasticizer',\n",
    "    r'.*Coarse Aggregate.*': 'Coarse Aggregate',\n",
    "    r'.*Fine Aggregate.*': 'Fine Aggregate',\n",
    "    r'.*Age.*': 'Age',\n",
    "    r'.*Concrete compressive strength.*': 'Concrete compressive strength'\n",
    "}\n",
    "\n",
    "df.columns = [next((v for k, v in rename_dict.items() if re.match(k, col)), col) for col in df.columns]"
   ]
  },
  {
   "cell_type": "code",
   "execution_count": null,
   "id": "128e25e8-0004-4223-ad87-3bd46bbb3370",
   "metadata": {},
   "outputs": [],
   "source": [
    "df"
   ]
  },
  {
   "cell_type": "markdown",
   "id": "a9058107-b8da-4b6e-ba02-43460f180669",
   "metadata": {},
   "source": [
    "# Data Analysis and Visualization"
   ]
  },
  {
   "cell_type": "code",
   "execution_count": null,
   "id": "4768415c-e1f5-4a5d-8d3a-8df7f376b4f4",
   "metadata": {},
   "outputs": [],
   "source": [
    "df.isnull()"
   ]
  },
  {
   "cell_type": "code",
   "execution_count": null,
   "id": "0b1a9f52-6d74-4d1c-afb2-926d9e39a465",
   "metadata": {},
   "outputs": [],
   "source": [
    "# Create a figure with 3x3 subplots, setting the overall figure size to 18x15 inches\n",
    "fig, axes = plt.subplots(3, 3, figsize=(18, 15))\n",
    "\n",
    "# Set the main title for the entire figure\n",
    "fig.suptitle('Understranding Concrete Comprehensive Strength - 3 x 3 axes Box plot with data')\n",
    "\n",
    "# Create scatter plots for each feature vs Concrete compressive strength\n",
    "# Row 0: Cement, Blast Furnace Slag, Fly Ash\n",
    "sns.scatterplot(ax=axes[0, 0], data=df, x=df['Concrete compressive strength'], y=df['Cement'])\n",
    "sns.scatterplot(ax=axes[0, 1], data=df, x=df['Concrete compressive strength'], y=df['Blast Furnace Slag'])\n",
    "sns.scatterplot(ax=axes[0, 2], data=df, x=df['Concrete compressive strength'], y=df['Fly Ash'])\n",
    "\n",
    "# Row 1: Water, Superplasticizer, Coarse Aggregate\n",
    "sns.scatterplot(ax=axes[1, 0], data=df, x=df['Concrete compressive strength'], y=df['Water'])\n",
    "sns.scatterplot(ax=axes[1, 1], data=df, x=df['Concrete compressive strength'], y=df['Superplasticizer'])\n",
    "sns.scatterplot(ax=axes[1, 2], data=df, x=df['Concrete compressive strength'], y=df['Coarse Aggregate'])\n",
    "\n",
    "# Row 2: Fine Aggregate, Age\n",
    "sns.scatterplot(ax=axes[2, 0], data=df, x=df['Concrete compressive strength'], y=df['Fine Aggregate'])\n",
    "sns.scatterplot(ax=axes[2, 1], data=df, x=df['Concrete compressive strength'], y=df['Age'])"
   ]
  },
  {
   "cell_type": "code",
   "execution_count": null,
   "id": "471b0746-8f3c-4e1a-8279-78030f2b9e97",
   "metadata": {},
   "outputs": [],
   "source": [
    "features = df.drop('Concrete compressive strength', axis=1)"
   ]
  },
  {
   "cell_type": "code",
   "execution_count": null,
   "id": "4a2576a6-1397-4718-9f06-1c83fcaf9d84",
   "metadata": {},
   "outputs": [],
   "source": [
    "# generating pairwise correlation \n",
    "corr = features.corr() \n",
    "  \n",
    "# Displaying dataframe as an heatmap  \n",
    "# with diverging colourmap as coolwarm \n",
    "corr.style.background_gradient(cmap ='coolwarm') "
   ]
  },
  {
   "cell_type": "markdown",
   "id": "3a18f96d-00c1-45dd-b2a6-bab90de4f5fb",
   "metadata": {},
   "source": [
    "# Split your dataset"
   ]
  },
  {
   "cell_type": "markdown",
   "id": "9fca6624-4e68-4b88-ba8c-886b5f17fd56",
   "metadata": {},
   "source": [
    "## Feature Engineering and Cleaning"
   ]
  },
  {
   "cell_type": "code",
   "execution_count": null,
   "id": "671877bc-0743-4031-ba53-6eb8414b354d",
   "metadata": {},
   "outputs": [],
   "source": [
    "df.dropna()"
   ]
  },
  {
   "cell_type": "code",
   "execution_count": null,
   "id": "872dc5ad-6cc9-4eda-8e27-ca75ac8fa8b6",
   "metadata": {},
   "outputs": [],
   "source": [
    "df.shape"
   ]
  },
  {
   "cell_type": "code",
   "execution_count": null,
   "id": "dc8d77d7-46f0-4e8d-bb36-47740eac03a6",
   "metadata": {},
   "outputs": [],
   "source": [
    "X = features = df.drop('Concrete compressive strength', axis=1)\n",
    "y = target = df['Concrete compressive strength']"
   ]
  },
  {
   "cell_type": "markdown",
   "id": "7699b3eb-9834-460c-97a4-ac7e6d0eb2da",
   "metadata": {},
   "source": [
    "### 80 - 20 split"
   ]
  },
  {
   "cell_type": "code",
   "execution_count": null,
   "id": "a7a10f3e-e915-44c1-bead-f8932a47e91a",
   "metadata": {},
   "outputs": [],
   "source": [
    "X_train, X_test, y_train, y_test = train_test_split(X, y, test_size=0.2, random_state=42)"
   ]
  },
  {
   "cell_type": "markdown",
   "id": "375a14e7-90a4-487c-a030-2e835000c20f",
   "metadata": {},
   "source": [
    "### Model Selection & Engineering"
   ]
  },
  {
   "cell_type": "code",
   "execution_count": null,
   "id": "7d133876-184f-42cd-b728-a903346bad40",
   "metadata": {},
   "outputs": [],
   "source": [
    "linear = LinearRegression()\n",
    "linear.fit(X_train, y_train)\n",
    "\n",
    "print(\"Accuracy score on training {:.4f}\".format(linear.score(X_train,y_train)))\n",
    "print(\"Accuracy score on testing {:.4f}\".format(linear.score(X_test,y_test)))"
   ]
  },
  {
   "cell_type": "code",
   "execution_count": null,
   "id": "8985c21c-3ab5-4995-bd9e-9908165d3d66",
   "metadata": {},
   "outputs": [],
   "source": [
    "# Model Selection\n",
    "ridge = Ridge(max_iter=1000000)\n",
    "ridge.fit(X_train, y_train)"
   ]
  },
  {
   "cell_type": "code",
   "execution_count": null,
   "id": "841f9aba-fb00-4d64-bd99-16627df4514c",
   "metadata": {},
   "outputs": [],
   "source": [
    "ridge.fit(X_train, y_train)\n",
    "print(\"Accuracy score on training {:.4f}\".format(ridge.score(X_train,y_train)))\n",
    "print(\"Accuracy score on testing {:.4f}\".format(ridge.score(X_test,y_test)))"
   ]
  },
  {
   "cell_type": "code",
   "execution_count": null,
   "id": "368d9585-1d55-4a6e-84d8-c78fba3a5c3a",
   "metadata": {},
   "outputs": [],
   "source": [
    "# Model Selection - best fit for ridge\n",
    "ridge100 = Ridge(alpha=100, max_iter=1000000)\n",
    "ridge100.fit(X_train, y_train)\n",
    "\n",
    "ridge.fit(X_train, y_train)\n",
    "print(\"Accuracy score on training {:.4f}\".format(ridge100.score(X_train,y_train)))\n",
    "print(\"Accuracy score on testing {:.4f}\".format(ridge100.score(X_test,y_test)))"
   ]
  },
  {
   "cell_type": "code",
   "execution_count": null,
   "id": "0955cf5b-76b7-49a3-870f-746281d33953",
   "metadata": {},
   "outputs": [],
   "source": [
    "# Model Selection\n",
    "ridge0001 = Ridge(alpha=0.0001, max_iter=1000000)\n",
    "ridge0001.fit(X_train, y_train)\n",
    "\n",
    "ridge.fit(X_train, y_train)\n",
    "print(\"Accuracy score on training {:.4f}\".format(ridge0001.score(X_train,y_train)))\n",
    "print(\"Accuracy score on testing {:.4f}\".format(ridge0001.score(X_test,y_test)))"
   ]
  },
  {
   "cell_type": "markdown",
   "id": "a3ead2ca-887f-4859-8678-e7f0f54bc02c",
   "metadata": {},
   "source": [
    "#### Ridge Regularization Impact vs LinearRegression"
   ]
  },
  {
   "cell_type": "code",
   "execution_count": null,
   "id": "500deec3-1ede-4332-b5d6-54de1567cb4e",
   "metadata": {},
   "outputs": [],
   "source": [
    "plt.plot(ridge.coef_,'v', label=\"ridge Coefficient\")\n",
    "plt.plot(ridge100.coef_,'^', label=\"Ridge100 Coefficient\")\n",
    "plt.plot(ridge0001.coef_,'o', label=\"Ridge0001 Coefficient\")\n",
    "\n",
    "plt.plot(linear.coef_,'s', label=\"Linear Coefficient\")\n",
    "plt.hlines(0,0, len(linear.coef_))\n",
    "plt.ylabel(\"Coefficient Magnitude\")\n",
    "plt.xlabel(\"Coefficient Index\")\n",
    "plt.ylim(-1,1)\n",
    "plt.legend()"
   ]
  },
  {
   "cell_type": "code",
   "execution_count": null,
   "id": "cf42b7c7-a6a4-4250-a9e4-cbe5806ea1ee",
   "metadata": {},
   "outputs": [],
   "source": [
    "from sklearn.linear_model import Lasso\n",
    "lasso = Lasso(max_iter=1000000)\n",
    "\n",
    "lasso.fit(X_train, y_train)\n",
    "print(\"Accuracy score on training {:.4f}\".format(lasso.score(X_train,y_train)))\n",
    "print(\"Accuracy score on testing {:.4f}\".format(lasso.score(X_test,y_test)))\n",
    "print(\"Number of features {}\".format(np.sum(lasso.coef_ != 0)))"
   ]
  },
  {
   "cell_type": "code",
   "execution_count": null,
   "id": "d26a3559-97e4-4488-8dc7-737e0c0d271f",
   "metadata": {},
   "outputs": [],
   "source": [
    "# Lasso0001 - Best fit for lasso\n",
    "lasso0001 = Lasso(alpha=0.0001, max_iter=1000000)\n",
    "lasso0001.fit(X_train, y_train)\n",
    "print(\"Accuracy score on training {:.4f}\".format(lasso0001.score(X_train,y_train)))\n",
    "print(\"Accuracy score on testing {:.4f}\".format(lasso0001.score(X_test,y_test)))\n",
    "print(\"Number of features {}\".format(np.sum(lasso0001.coef_ != 0)))"
   ]
  },
  {
   "cell_type": "code",
   "execution_count": null,
   "id": "dd0ad2d3-1e95-4090-b028-ff8a8ff83f56",
   "metadata": {},
   "outputs": [],
   "source": [
    "lasso10 = Lasso(alpha=10, max_iter=1000000)\n",
    "\n",
    "lasso10.fit(X_train, y_train)\n",
    "print(\"Accuracy score on training {:.4f}\".format(lasso10.score(X_train,y_train)))\n",
    "print(\"Accuracy score on testing {:.4f}\".format(lasso10.score(X_test,y_test)))\n",
    "print(\"Number of features {}\".format(np.sum(lasso10.coef_ != 0)))"
   ]
  },
  {
   "cell_type": "code",
   "execution_count": null,
   "id": "dfca727d-3df9-4917-82b6-817e803fcb71",
   "metadata": {},
   "outputs": [],
   "source": [
    "# Lasso100 - lowest\n",
    "lasso100 = Lasso(alpha=100,max_iter=1000000)\n",
    "\n",
    "lasso100.fit(X_train, y_train)\n",
    "print(\"Accuracy score on training {:.4f}\".format(lasso100.score(X_train,y_train)))\n",
    "print(\"Accuracy score on testing {:.4f}\".format(lasso100.score(X_test,y_test)))\n",
    "print(\"Number of features {}\".format(np.sum(lasso100.coef_ != 0)))"
   ]
  },
  {
   "cell_type": "markdown",
   "id": "6066cebf-84e9-4558-a4b2-80f3bb61fc45",
   "metadata": {},
   "source": [
    "#### Lasso Regularization Impact vs LinearRegression"
   ]
  },
  {
   "cell_type": "code",
   "execution_count": null,
   "id": "d822edf3-6bf2-4b81-8968-b2bf6e3ac807",
   "metadata": {},
   "outputs": [],
   "source": [
    "plt.plot(lasso.coef_,'v', label=\"ridge Coefficient\")\n",
    "plt.plot(lasso0001.coef_,'^', label=\"Lasso0001 Coefficient\")\n",
    "plt.plot(lasso10.coef_,'o', label=\"Lasso10 Coefficient\")\n",
    "plt.plot(lasso100.coef_,'o', label=\"Lasso100 Coefficient\")\n",
    "\n",
    "plt.plot(linear.coef_,'s', label=\"Linear Coefficient\")\n",
    "plt.hlines(0,0, len(linear.coef_))\n",
    "plt.ylabel(\"Coefficient Magnitude\")\n",
    "plt.xlabel(\"Coefficient Index\")\n",
    "plt.ylim(-1,1)\n",
    "plt.legend()"
   ]
  },
  {
   "cell_type": "markdown",
   "id": "fa73baf8-0a39-4bba-b801-eecdccbbbd99",
   "metadata": {},
   "source": [
    "# Predictions using best fit model"
   ]
  },
  {
   "cell_type": "code",
   "execution_count": null,
   "id": "36cc4460-55e2-473f-ac94-b4d275b01eda",
   "metadata": {},
   "outputs": [],
   "source": [
    "y_pred = linear.predict(X_test)\n",
    "results_linear = pd.Series(y_pred)\n",
    "results_linear"
   ]
  },
  {
   "cell_type": "code",
   "execution_count": null,
   "id": "85b25a1a-73fd-4e01-b25a-4052c1e3d9a9",
   "metadata": {},
   "outputs": [],
   "source": [
    "y_pred_ridge = ridge100.predict(X_test)\n",
    "results_ridge = pd.Series(y_pred_ridge)\n",
    "results_ridge"
   ]
  },
  {
   "cell_type": "code",
   "execution_count": null,
   "id": "e29763c2-8664-44f0-bebd-847d3cdb5fd5",
   "metadata": {},
   "outputs": [],
   "source": [
    "y_pred_lasso = lasso0001.predict(X_test)\n",
    "results_lasso = pd.Series(y_pred_lasso)\n",
    "results_lasso"
   ]
  },
  {
   "cell_type": "code",
   "execution_count": null,
   "id": "f16488ef-4b46-49b3-8bc7-ec8f0c85c0ab",
   "metadata": {},
   "outputs": [],
   "source": [
    "df_graphs = pd.DataFrame({'Linear_pred': results_linear, 'Lasso_pred': results_lasso, 'Ridge_pred': results_ridge })\n",
    "fd = df_graphs.cumsum()\n",
    "plt.figure()\n",
    "fd.plot()"
   ]
  },
  {
   "cell_type": "code",
   "execution_count": null,
   "id": "5f40b641-fd0a-4417-b12e-79f9f4e64722",
   "metadata": {},
   "outputs": [],
   "source": []
  }
 ],
 "metadata": {
  "kernelspec": {
   "display_name": "Python [conda env:base] *",
   "language": "python",
   "name": "conda-base-py"
  },
  "language_info": {
   "codemirror_mode": {
    "name": "ipython",
    "version": 3
   },
   "file_extension": ".py",
   "mimetype": "text/x-python",
   "name": "python",
   "nbconvert_exporter": "python",
   "pygments_lexer": "ipython3",
   "version": "3.12.7"
  }
 },
 "nbformat": 4,
 "nbformat_minor": 5
}
